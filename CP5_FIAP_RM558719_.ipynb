{
  "nbformat": 4,
  "nbformat_minor": 0,
  "metadata": {
    "colab": {
      "provenance": []
    },
    "kernelspec": {
      "name": "python3",
      "display_name": "Python 3"
    },
    "language_info": {
      "name": "python"
    }
  },
  "cells": [
    {
      "cell_type": "markdown",
      "source": [
        "# CP5\n"
      ],
      "metadata": {
        "id": "QC9rioRXaBZt"
      }
    },
    {
      "cell_type": "markdown",
      "source": [
        "## CP5 de Machine Learning - Previsão de Valor de Casas\n",
        "\n",
        "O objetivo deste CP5 é desenvolver um modelo de regressão utilizando machine learning para prever a coluna median_house_value, que representa o valor mediano das casas na região. Vocês deverão utilizar o dataset housing.csv e seguir o processo completo de modelagem, desde a remoção de outliers até a construção e avaliação do modelo.\n",
        "\n",
        "**Descrição do Dataset:**\n",
        "O dataset contém dados de diferentes regiões residenciais na Califórnia, com diversas características relacionadas à população, moradia e localização geográfica. Abaixo está a descrição de cada coluna:\n",
        "\n",
        "- **longitude:** Longitude da localização da região (em graus). Representa a coordenada geográfica da longitude.\n",
        "\n",
        "- **latitude:** Latitude da localização da região (em graus). Representa a coordenada geográfica da latitude.\n",
        "\n",
        "- **housing_median_age:** Idade mediana das casas na região (em anos). Reflete a média da idade das construções residenciais.\n",
        "\n",
        "- **total_rooms:** Número total de quartos em todas as casas da região.\n",
        "\n",
        "- **total_bedrooms:** Número total de dormitórios em todas as casas da região. (Nota: algumas entradas podem conter valores nulos, que precisam ser tratados).\n",
        "\n",
        "- **population:** População total da região.\n",
        "\n",
        "- **households:** Número total de domicílios na região. Cada domicílio é definido como uma unidade habitacional ocupada.\n",
        "\n",
        "- **median_income:** Renda mediana dos moradores da região. Esse valor está escalado, ou seja, foi dividido por 10.000 (por exemplo, um valor de 8.3252 representa uma renda de $83,252).\n",
        "\n",
        "- **median_house_value:** Valor mediano das casas na região (em dólares). Esta é a variável alvo que vocês devem prever com o modelo de regressão.\n",
        "\n",
        "- **ocean_proximity:** Proximidade da região em relação ao oceano.\n",
        "\n",
        "\n",
        "A coluna ocean_proximity representa a proximidade da região em relação ao oceano e contém valores categóricos. Aqui está o significado dos possíveis valores dessa coluna:\n",
        "\n",
        "\n",
        "- **NEAR BAY:** A região está próxima a uma baía, como a Baía de São Francisco.\n",
        "\n",
        "- **INLAND:** A região está no interior, distante do oceano ou de grandes massas de água.\n",
        "\n",
        "- **NEAR OCEAN:** A região está localizada próxima à costa do oceano, mas não especifica uma baía específica.\n",
        "\n",
        "- **<1H OCEAN:** A região está localizada a menos de uma hora de distância do oceano, provavelmente em áreas suburbanas ou regiões periféricas próximas ao litoral.\n",
        "\n",
        "- **ISLAND:** A região está em uma ilha."
      ],
      "metadata": {
        "id": "fs2aszVabcnS"
      }
    },
    {
      "cell_type": "markdown",
      "source": [
        "## 1) Import dos dados"
      ],
      "metadata": {
        "id": "Jqx-sczUZ0wG"
      }
    },
    {
      "cell_type": "code",
      "source": [
        "pip install pandas\n",
        "\n",
        "# Importando a biblioteca pandas\n",
        "import pandas as pd\n",
        "\n",
        "# Carregando o dataset\n",
        "data = pd.read_csv('housing.csv')\n",
        "\n",
        "# Visualizando as primeiras linhas do dataset\n",
        "print(data.head())\n"
      ],
      "metadata": {
        "id": "MrR-vSlBZ2yZ",
        "colab": {
          "base_uri": "https://localhost:8080/",
          "height": 105
        },
        "outputId": "988be657-1baa-47bd-ff51-62148220687f"
      },
      "execution_count": 27,
      "outputs": [
        {
          "output_type": "error",
          "ename": "SyntaxError",
          "evalue": "invalid syntax (<ipython-input-27-99c7040bbf3f>, line 1)",
          "traceback": [
            "\u001b[0;36m  File \u001b[0;32m\"<ipython-input-27-99c7040bbf3f>\"\u001b[0;36m, line \u001b[0;32m1\u001b[0m\n\u001b[0;31m    pip install pandas\u001b[0m\n\u001b[0m        ^\u001b[0m\n\u001b[0;31mSyntaxError\u001b[0m\u001b[0;31m:\u001b[0m invalid syntax\n"
          ]
        }
      ]
    },
    {
      "cell_type": "markdown",
      "source": [
        "## 2) Remoção de Outliers\n",
        "Faça a análise e remoção dos outliers de housing."
      ],
      "metadata": {
        "id": "7uKm4g7eTgAx"
      }
    },
    {
      "cell_type": "code",
      "source": [
        "import seaborn as sns\n",
        "import matplotlib.pyplot as plt\n",
        "\n",
        "# Carregando o dataset\n",
        "data = pd.read_csv('housing.csv')\n",
        "\n",
        "# Visualizando a distribuição da variável alvo (median_house_value)\n",
        "plt.figure(figsize=(10, 6))\n",
        "sns.boxplot(x=data['median_house_value'])\n",
        "plt.title('Boxplot da Variável median_house_value')\n",
        "plt.show()\n",
        "\n",
        "# Cálculo do IQR\n",
        "Q1 = data['median_house_value'].quantile(0.25)\n",
        "Q3 = data['median_house_value'].quantile(0.75)\n",
        "IQR = Q3 - Q1\n",
        "\n",
        "# Definindo os limites inferior e superior\n",
        "lower_bound = Q1 - 1.5 * IQR\n",
        "upper_bound = Q3 + 1.5 * IQR\n",
        "\n",
        "# Removendo outliers\n",
        "data_cleaned = data[(data['median_house_value'] >= lower_bound) & (data['median_house_value'] <= upper_bound)]\n",
        "\n",
        "# Visualizando a distribuição após remoção de outliers\n",
        "plt.figure(figsize=(10, 6))\n",
        "sns.boxplot(x=data_cleaned['median_house_value'])\n",
        "plt.title('Boxplot da Variável median_house_value (Sem Outliers)')\n",
        "plt.show()\n",
        "\n",
        "# Verificando a quantidade de linhas antes e depois da remoção\n",
        "print(f'Número de linhas antes da remoção: {data.shape[0]}')\n",
        "print(f'Número de linhas depois da remoção: {data_cleaned.shape[0]}')\n"
      ],
      "metadata": {
        "id": "MJ85x1CzXDoz",
        "colab": {
          "base_uri": "https://localhost:8080/",
          "height": 105
        },
        "outputId": "38e99aea-9a82-488e-9814-ae0556e5d418"
      },
      "execution_count": 28,
      "outputs": [
        {
          "output_type": "display_data",
          "data": {
            "text/plain": [
              "<Figure size 1000x600 with 1 Axes>"
            ],
            "image/png": "[encoded data removed]"
          },
          "metadata": {}
        },
        {
          "output_type": "display_data",
          "data": {
            "text/plain": [
              "<Figure size 1000x600 with 1 Axes>"
            ],
            "image/png": "[encoded data removed]"
          },
          "metadata": {}
        },
        {
          "output_type": "stream",
          "name": "stdout",
          "text": [
            "Número de linhas antes da remoção: 20640\n",
            "Número de linhas depois da remoção: 19569\n"
          ]
        }
      ]
    },
    {
      "cell_type": "markdown",
      "source": [
        "## 3) Criação de novas features (Opcional)\n",
        "Análise os dados e verifique a possibilidade de criar features/colunas novas que ajudarão a prever os dados de 'median_house_value'."
      ],
      "metadata": {
        "id": "Vm6j0pPVTnbP"
      }
    },
    {
      "cell_type": "code",
      "source": [
        "# Carregando o dataset\n",
        "data = pd.read_csv('housing.csv')\n",
        "\n",
        "#Relação entre Renda e Domicílios:\n",
        "data['income_per_household'] = data['median_income'] / data['households']\n",
        "\n",
        "#Proporção de Quartos por Domicílio:\n",
        "data['rooms_per_household'] = data['total_rooms'] / data['households']\n",
        "\n",
        "#Proporção de Dormitórios por Quarto:\n",
        "data['bedrooms_per_room'] = data['total_bedrooms'] / data['total_rooms']\n",
        "\n",
        "#Idade das Casas:\n",
        "data['age_of_housing'] = 2024 - data['housing_median_age']\n",
        "\n",
        "#Proximidade ao Oceano:\n",
        "data = pd.get_dummies(data, columns=['ocean_proximity'], drop_first=True)\n",
        "\n",
        "# Visualizando as novas features\n",
        "print(data.head())"
      ],
      "metadata": {
        "id": "zYQ-3M3rXURS",
        "colab": {
          "base_uri": "https://localhost:8080/"
        },
        "outputId": "06fcf844-6c49-4e8a-a44f-e771e414d81d"
      },
      "execution_count": 29,
      "outputs": [
        {
          "output_type": "stream",
          "name": "stdout",
          "text": [
            "   longitude  latitude  housing_median_age  total_rooms  total_bedrooms  \\\n",
            "0    -122.23     37.88                41.0        880.0           129.0   \n",
            "1    -122.22     37.86                21.0       7099.0          1106.0   \n",
            "2    -122.24     37.85                52.0       1467.0           190.0   \n",
            "3    -122.25     37.85                52.0       1274.0           235.0   \n",
            "4    -122.25     37.85                52.0       1627.0           280.0   \n",
            "\n",
            "   population  households  median_income  median_house_value  \\\n",
            "0       322.0       126.0         8.3252            452600.0   \n",
            "1      2401.0      1138.0         8.3014            358500.0   \n",
            "2       496.0       177.0         7.2574            352100.0   \n",
            "3       558.0       219.0         5.6431            341300.0   \n",
            "4       565.0       259.0         3.8462            342200.0   \n",
            "\n",
            "   income_per_household  rooms_per_household  bedrooms_per_room  \\\n",
            "0              0.066073             6.984127           0.146591   \n",
            "1              0.007295             6.238137           0.155797   \n",
            "2              0.041002             8.288136           0.129516   \n",
            "3              0.025768             5.817352           0.184458   \n",
            "4              0.014850             6.281853           0.172096   \n",
            "\n",
            "   age_of_housing  ocean_proximity_INLAND  ocean_proximity_ISLAND  \\\n",
            "0          1983.0                   False                   False   \n",
            "1          2003.0                   False                   False   \n",
            "2          1972.0                   False                   False   \n",
            "3          1972.0                   False                   False   \n",
            "4          1972.0                   False                   False   \n",
            "\n",
            "   ocean_proximity_NEAR BAY  ocean_proximity_NEAR OCEAN  \n",
            "0                      True                       False  \n",
            "1                      True                       False  \n",
            "2                      True                       False  \n",
            "3                      True                       False  \n",
            "4                      True                       False  \n"
          ]
        }
      ]
    },
    {
      "cell_type": "markdown",
      "source": [
        "## 4) Preenchimento de Dados Faltantes\n",
        "Utilizando a estratégia de preenchimento de dados faltantes do Sklearn, crie um novo dataset contendo somente os dados float64 e aplique a técnica para preenchê-los. (SimpleImputer)"
      ],
      "metadata": {
        "id": "JZwe17WATs6d"
      }
    },
    {
      "cell_type": "code",
      "source": [
        "from sklearn.impute import SimpleImputer\n",
        "\n",
        "# Carregando o dataset\n",
        "data = pd.read_csv('housing.csv')\n",
        "\n",
        "# Selecionando apenas as colunas do tipo float64:\n",
        "float_data = data.select_dtypes(include=['float64'])\n",
        "\n",
        "# Visualizando a quantidade de dados faltantes antes da imputação:\n",
        "print(\"Dados faltantes antes da imputação:\")\n",
        "print(float_data.isnull().sum())\n",
        "\n",
        "# Criando o imputador com a estratégia de média:\n",
        "imputer = SimpleImputer(strategy='mean')\n",
        "\n",
        "# Aplicando a técnica de imputação:\n",
        "float_data_imputed = pd.DataFrame(imputer.fit_transform(float_data), columns=float_data.columns)\n",
        "\n",
        "# Visualizando a quantidade de dados faltantes após a imputação:\n",
        "print(\"\\nDados faltantes após a imputação:\")\n",
        "print(float_data_imputed.isnull().sum())\n",
        "\n",
        "# Adicionar as colunas imputadas de volta ao dataset original:\n",
        "data_imputed = data.copy()\n",
        "data_imputed[float_data.columns] = float_data_imputed\n",
        "\n",
        "# Visualizando o novo dataset com dados preenchidos\n",
        "print(\"\\nNovo dataset com dados preenchidos:\")\n",
        "print(data_imputed.head())"
      ],
      "metadata": {
        "id": "ku5tPshTXYJZ",
        "colab": {
          "base_uri": "https://localhost:8080/"
        },
        "outputId": "3b6684c0-9cd4-4f39-9f37-ad471d9572e4"
      },
      "execution_count": 30,
      "outputs": [
        {
          "output_type": "stream",
          "name": "stdout",
          "text": [
            "Dados faltantes antes da imputação:\n",
            "longitude               0\n",
            "latitude                0\n",
            "housing_median_age      0\n",
            "total_rooms             0\n",
            "total_bedrooms        207\n",
            "population              0\n",
            "households              0\n",
            "median_income           0\n",
            "median_house_value      0\n",
            "dtype: int64\n",
            "\n",
            "Dados faltantes após a imputação:\n",
            "longitude             0\n",
            "latitude              0\n",
            "housing_median_age    0\n",
            "total_rooms           0\n",
            "total_bedrooms        0\n",
            "population            0\n",
            "households            0\n",
            "median_income         0\n",
            "median_house_value    0\n",
            "dtype: int64\n",
            "\n",
            "Novo dataset com dados preenchidos:\n",
            "   longitude  latitude  housing_median_age  total_rooms  total_bedrooms  \\\n",
            "0    -122.23     37.88                41.0        880.0           129.0   \n",
            "1    -122.22     37.86                21.0       7099.0          1106.0   \n",
            "2    -122.24     37.85                52.0       1467.0           190.0   \n",
            "3    -122.25     37.85                52.0       1274.0           235.0   \n",
            "4    -122.25     37.85                52.0       1627.0           280.0   \n",
            "\n",
            "   population  households  median_income  median_house_value ocean_proximity  \n",
            "0       322.0       126.0         8.3252            452600.0        NEAR BAY  \n",
            "1      2401.0      1138.0         8.3014            358500.0        NEAR BAY  \n",
            "2       496.0       177.0         7.2574            352100.0        NEAR BAY  \n",
            "3       558.0       219.0         5.6431            341300.0        NEAR BAY  \n",
            "4       565.0       259.0         3.8462            342200.0        NEAR BAY  \n"
          ]
        }
      ]
    },
    {
      "cell_type": "markdown",
      "source": [
        "## 5) Separar dados de Treino e Teste\n",
        "Utilizando o SKlearn, separe os dados de treino e teste do modelo numa proporção de 80/20, onde 80% são os dados de treino e 20% são os dados de teste. (train_test_split)"
      ],
      "metadata": {
        "id": "yT7hsqfETyTv"
      }
    },
    {
      "cell_type": "code",
      "source": [
        "from sklearn.model_selection import train_test_split\n",
        "\n",
        "# Carregando o dataset\n",
        "data = pd.read_csv('housing.csv')\n",
        "\n",
        "# Definindo as variáveis independentes (X) e a variável dependente (y):\n",
        "X = data.drop('median_house_value', axis=1)  # Dados de entrada (removendo a variável alvo).\n",
        "y = data['median_house_value']  # Variável alvo.\n",
        "\n",
        "# Separando os dados em conjuntos de treino e teste (80/20):\n",
        "X_train, X_test, y_train, y_test = train_test_split(X, y, test_size=0.2, random_state=42)\n",
        "\n",
        "# Visualizando o tamanho dos conjuntos de treino e teste:\n",
        "print(f'Tamanho do conjunto de treino: {X_train.shape[0]}')\n",
        "print(f'Tamanho do conjunto de teste: {X_test.shape[0]}')\n"
      ],
      "metadata": {
        "id": "BWqRGZyNWteV",
        "colab": {
          "base_uri": "https://localhost:8080/"
        },
        "outputId": "2114a856-793d-409f-fc3b-4e189dd7b49a"
      },
      "execution_count": 31,
      "outputs": [
        {
          "output_type": "stream",
          "name": "stdout",
          "text": [
            "Tamanho do conjunto de treino: 16512\n",
            "Tamanho do conjunto de teste: 4128\n"
          ]
        }
      ]
    },
    {
      "cell_type": "markdown",
      "source": [
        "## 6) Selecionar Labels\n",
        "Crie um novo dataset, a partir dos dados de treino (df_train), chamado de df_label somente com os dados da nossa variável alvo 'median_house_value'. E outro dataset chamado de df_base retirando a nossa variável alvo."
      ],
      "metadata": {
        "id": "LfOOGFo7T6I5"
      }
    },
    {
      "cell_type": "code",
      "source": [
        "from sklearn.model_selection import train_test_split\n",
        "\n",
        "# Criando df_label e df_base\n",
        "df_label = pd.DataFrame(y_train).reset_index(drop=True)  # DataFrame com a variável alvo:\n",
        "df_base = X_train.reset_index(drop=True)  # DataFrame sem a variável alvo:\n",
        "\n",
        "# Visualizando os novos datasets:\n",
        "print(\"df_label (variável alvo):\")\n",
        "print(df_label.head())\n",
        "\n",
        "print(\"\\ndf_base (dados de entrada):\")\n",
        "print(df_base.head())\n"
      ],
      "metadata": {
        "id": "fqKz8-QzWqfC",
        "colab": {
          "base_uri": "https://localhost:8080/"
        },
        "outputId": "5d5ce6cf-a445-4996-b281-614d731e0ef3"
      },
      "execution_count": 32,
      "outputs": [
        {
          "output_type": "stream",
          "name": "stdout",
          "text": [
            "df_label (variável alvo):\n",
            "   median_house_value\n",
            "0            103000.0\n",
            "1            382100.0\n",
            "2            172600.0\n",
            "3             93400.0\n",
            "4             96500.0\n",
            "\n",
            "df_base (dados de entrada):\n",
            "   longitude  latitude  housing_median_age  total_rooms  total_bedrooms  \\\n",
            "0    -117.03     32.71                33.0       3126.0           627.0   \n",
            "1    -118.16     33.77                49.0       3382.0           787.0   \n",
            "2    -120.48     34.66                 4.0       1897.0           331.0   \n",
            "3    -117.11     32.69                36.0       1421.0           367.0   \n",
            "4    -119.80     36.78                43.0       2382.0           431.0   \n",
            "\n",
            "   population  households  median_income ocean_proximity  \n",
            "0      2300.0       623.0         3.2596      NEAR OCEAN  \n",
            "1      1314.0       756.0         3.8125      NEAR OCEAN  \n",
            "2       915.0       336.0         4.1563      NEAR OCEAN  \n",
            "3      1418.0       355.0         1.9425      NEAR OCEAN  \n",
            "4       874.0       380.0         3.5542          INLAND  \n"
          ]
        }
      ]
    },
    {
      "cell_type": "markdown",
      "source": [
        "## 7) Variáveis Categóricas\n",
        "Crie um novo dataset somente com os campos categóricos e aplique nele a técnica/tratamento escolhido. (OrdinalEncoder, OneHotEncoder, dentre outros...)"
      ],
      "metadata": {
        "id": "7gk_wemPVE2-"
      }
    },
    {
      "cell_type": "code",
      "source": [
        "from sklearn.model_selection import train_test_split\n",
        "from sklearn.preprocessing import OneHotEncoder\n",
        "\n",
        "# Separando as variáveis independentes e dependentes:\n",
        "X = data.drop('median_house_value', axis=1)\n",
        "y = data['median_house_value']\n",
        "\n",
        "# Separando os dados de treino e teste:\n",
        "X_train, X_test, y_train, y_test = train_test_split(X, y, test_size=0.2, random_state=42)\n",
        "\n",
        "# Selecionando as variáveis categóricas no conjunto de treino:\n",
        "categorical_columns = X_train.select_dtypes(include=['object']).columns\n",
        "df_categorical = X_train[categorical_columns]\n",
        "\n",
        "# Aplicando o OneHotEncoder para as variáveis categóricas:\n",
        "encoder = OneHotEncoder(sparse_output=False, drop='first')\n",
        "categorical_encoded = encoder.fit_transform(df_categorical)\n",
        "\n",
        "# Criando um DataFrame com as variáveis categóricas codificadas:\n",
        "encoded_feature_names = encoder.get_feature_names_out(categorical_columns)\n",
        "df_categorical_encoded = pd.DataFrame(categorical_encoded, columns=encoded_feature_names)\n",
        "\n",
        "# Visualizando o novo dataset com as variáveis categóricas codificadas:\n",
        "print(\"Variáveis categóricas codificadas:\")\n",
        "print(df_categorical_encoded.head())\n"
      ],
      "metadata": {
        "id": "C5lRLqbwV8bl",
        "colab": {
          "base_uri": "https://localhost:8080/"
        },
        "outputId": "7797caa6-b378-45d7-e746-a8fe4b33c878"
      },
      "execution_count": 33,
      "outputs": [
        {
          "output_type": "stream",
          "name": "stdout",
          "text": [
            "Variáveis categóricas codificadas:\n",
            "   ocean_proximity_INLAND  ocean_proximity_ISLAND  ocean_proximity_NEAR BAY  \\\n",
            "0                     0.0                     0.0                       0.0   \n",
            "1                     0.0                     0.0                       0.0   \n",
            "2                     0.0                     0.0                       0.0   \n",
            "3                     0.0                     0.0                       0.0   \n",
            "4                     1.0                     0.0                       0.0   \n",
            "\n",
            "   ocean_proximity_NEAR OCEAN  \n",
            "0                         1.0  \n",
            "1                         1.0  \n",
            "2                         1.0  \n",
            "3                         1.0  \n",
            "4                         0.0  \n"
          ]
        }
      ]
    },
    {
      "cell_type": "markdown",
      "source": [
        "## 8) Escalonamento de Dados\n",
        "Escolha uma técnica para escalonar os nossos dados, com o objetivo de queseja melhor aceito pelo algoritmo. (MinMax, Scaling, dentre outros ...)"
      ],
      "metadata": {
        "id": "njZRefrfUBq9"
      }
    },
    {
      "cell_type": "code",
      "source": [
        "from sklearn.model_selection import train_test_split\n",
        "from sklearn.preprocessing import MinMaxScaler\n",
        "\n",
        "# Separando as variáveis independentes e dependentes:\n",
        "X = data.drop('median_house_value', axis=1)\n",
        "y = data['median_house_value']\n",
        "\n",
        "# Separando os dados em treino e teste:\n",
        "X_train, X_test, y_train, y_test = train_test_split(X, y, test_size=0.2, random_state=42)\n",
        "\n",
        "# Selecionando apenas as colunas numéricas para escalonamento:\n",
        "numerical_columns = X_train.select_dtypes(include=['float64', 'int64']).columns\n",
        "X_train_numerical = X_train[numerical_columns]\n",
        "X_test_numerical = X_test[numerical_columns]\n",
        "\n",
        "# Aplicando o MinMaxScaler:\n",
        "scaler = MinMaxScaler()\n",
        "X_train_scaled = scaler.fit_transform(X_train_numerical)\n",
        "X_test_scaled = scaler.transform(X_test_numerical)\n",
        "\n",
        "# Convertendo os dados escalonados de volta para DataFrame:\n",
        "X_train_scaled_df = pd.DataFrame(X_train_scaled, columns=numerical_columns)\n",
        "X_test_scaled_df = pd.DataFrame(X_test_scaled, columns=numerical_columns)\n",
        "\n",
        "# Visualizando os dados escalonados:\n",
        "print(\"Dados de treino escalonados:\")\n",
        "print(X_train_scaled_df.head())\n",
        "\n",
        "print(\"\\nDados de teste escalonados:\")\n",
        "print(X_test_scaled_df.head())\n"
      ],
      "metadata": {
        "id": "574wqNSiX3bB",
        "colab": {
          "base_uri": "https://localhost:8080/"
        },
        "outputId": "900b4fd1-1444-4fab-91e5-eb7b89b38271"
      },
      "execution_count": 34,
      "outputs": [
        {
          "output_type": "stream",
          "name": "stdout",
          "text": [
            "Dados de treino escalonados:\n",
            "   longitude  latitude  housing_median_age  total_rooms  total_bedrooms  \\\n",
            "0   0.729084  0.017021            0.627451     0.079455        0.097145   \n",
            "1   0.616534  0.129787            0.941176     0.085966        0.121974   \n",
            "2   0.385458  0.224468            0.058824     0.048197        0.051210   \n",
            "3   0.721116  0.014894            0.686275     0.036090        0.056797   \n",
            "4   0.453187  0.450000            0.823529     0.060532        0.066729   \n",
            "\n",
            "   population  households  median_income  \n",
            "0    0.064380    0.102286       0.190322  \n",
            "1    0.036744    0.124157       0.228452  \n",
            "2    0.025561    0.055090       0.252162  \n",
            "3    0.039659    0.058214       0.099488  \n",
            "4    0.024412    0.062325       0.210638  \n",
            "\n",
            "Dados de teste escalonados:\n",
            "   longitude  latitude  housing_median_age  total_rooms  total_bedrooms  \\\n",
            "0   0.531873  0.373404            0.470588     0.038227             NaN   \n",
            "1   0.487052  0.275532            0.568627     0.074800             NaN   \n",
            "2   0.190239  0.558511            1.000000     0.097360             NaN   \n",
            "3   0.560757  0.184043            0.313725     0.077547             NaN   \n",
            "4   0.241036  0.432979            0.647059     0.059744             NaN   \n",
            "\n",
            "   population  households  median_income  \n",
            "0    0.038930    0.058872       0.081468  \n",
            "1    0.043779    0.095872       0.140095  \n",
            "2    0.036632    0.158198       0.205528  \n",
            "3    0.047703    0.081237       0.361216  \n",
            "4    0.029709    0.070219       0.222418  \n"
          ]
        }
      ]
    },
    {
      "cell_type": "markdown",
      "source": [
        "## 9) Pipeline Númerico\n",
        "Utilizando o Sklearn, crie um pipeline numérico que faça o preenchimento dos dados faltantes e o escalonamento dos dados."
      ],
      "metadata": {
        "id": "ManPmXkUT9ix"
      }
    },
    {
      "cell_type": "code",
      "source": [
        "from sklearn.model_selection import train_test_split\n",
        "from sklearn.pipeline import Pipeline\n",
        "from sklearn.impute import SimpleImputer\n",
        "from sklearn.preprocessing import MinMaxScaler\n",
        "\n",
        "# Separando as variáveis independentes e dependentes:\n",
        "X = data.drop('median_house_value', axis=1)\n",
        "y = data['median_house_value']\n",
        "\n",
        "# Separando os dados em treino e teste:\n",
        "X_train, X_test, y_train, y_test = train_test_split(X, y, test_size=0.2, random_state=42)\n",
        "\n",
        "# Selecionando apenas as colunas numéricas para o pipeline:\n",
        "numerical_columns = X_train.select_dtypes(include=['float64', 'int64']).columns\n",
        "X_train_numerical = X_train[numerical_columns]\n",
        "X_test_numerical = X_test[numerical_columns]\n",
        "\n",
        "# Criando o pipeline numérico para preenchimento e escalonamento:\n",
        "numeric_pipeline = Pipeline([\n",
        "    ('imputer', SimpleImputer(strategy='median')),  # Preenche valores faltantes com a mediana\n",
        "    ('scaler', MinMaxScaler())                      # Escalona os dados entre 0 e 1\n",
        "])\n",
        "\n",
        "# Aplicando o pipeline nos dados de treino e teste:\n",
        "X_train_numerical_prepared = numeric_pipeline.fit_transform(X_train_numerical)\n",
        "X_test_numerical_prepared = numeric_pipeline.transform(X_test_numerical)\n",
        "\n",
        "# Convertendo os dados preparados de volta para DataFrame:\n",
        "X_train_numerical_prepared_df = pd.DataFrame(X_train_numerical_prepared, columns=numerical_columns)\n",
        "X_test_numerical_prepared_df = pd.DataFrame(X_test_numerical_prepared, columns=numerical_columns)\n",
        "\n",
        "# Visualizando os dados preparados:\n",
        "print(\"Dados de treino numéricos processados:\")\n",
        "print(X_train_numerical_prepared_df.head())\n",
        "\n",
        "print(\"\\nDados de teste numéricos processados:\")\n",
        "print(X_test_numerical_prepared_df.head())\n"
      ],
      "metadata": {
        "id": "6OMe1lMAYRIF",
        "colab": {
          "base_uri": "https://localhost:8080/"
        },
        "outputId": "b24a1009-0a5c-4dfe-d30f-41c71dccaeb7"
      },
      "execution_count": 35,
      "outputs": [
        {
          "output_type": "stream",
          "name": "stdout",
          "text": [
            "Dados de treino numéricos processados:\n",
            "   longitude  latitude  housing_median_age  total_rooms  total_bedrooms  \\\n",
            "0   0.729084  0.017021            0.627451     0.079455        0.097145   \n",
            "1   0.616534  0.129787            0.941176     0.085966        0.121974   \n",
            "2   0.385458  0.224468            0.058824     0.048197        0.051210   \n",
            "3   0.721116  0.014894            0.686275     0.036090        0.056797   \n",
            "4   0.453187  0.450000            0.823529     0.060532        0.066729   \n",
            "\n",
            "   population  households  median_income  \n",
            "0    0.064380    0.102286       0.190322  \n",
            "1    0.036744    0.124157       0.228452  \n",
            "2    0.025561    0.055090       0.252162  \n",
            "3    0.039659    0.058214       0.099488  \n",
            "4    0.024412    0.062325       0.210638  \n",
            "\n",
            "Dados de teste numéricos processados:\n",
            "   longitude  latitude  housing_median_age  total_rooms  total_bedrooms  \\\n",
            "0   0.531873  0.373404            0.470588     0.038227         0.06766   \n",
            "1   0.487052  0.275532            0.568627     0.074800         0.06766   \n",
            "2   0.190239  0.558511            1.000000     0.097360         0.06766   \n",
            "3   0.560757  0.184043            0.313725     0.077547         0.06766   \n",
            "4   0.241036  0.432979            0.647059     0.059744         0.06766   \n",
            "\n",
            "   population  households  median_income  \n",
            "0    0.038930    0.058872       0.081468  \n",
            "1    0.043779    0.095872       0.140095  \n",
            "2    0.036632    0.158198       0.205528  \n",
            "3    0.047703    0.081237       0.361216  \n",
            "4    0.029709    0.070219       0.222418  \n"
          ]
        }
      ]
    },
    {
      "cell_type": "markdown",
      "source": [
        "## 10) Pipeline Categórico\n",
        "Utilizando o Sklearn, crie um pipeline categórico que aplique a estratégia escolhida para os dados categóricos."
      ],
      "metadata": {
        "id": "gE9421uwUG30"
      }
    },
    {
      "cell_type": "code",
      "source": [
        "from sklearn.model_selection import train_test_split\n",
        "from sklearn.pipeline import Pipeline\n",
        "from sklearn.impute import SimpleImputer\n",
        "from sklearn.preprocessing import OneHotEncoder\n",
        "\n",
        "# Separando as variáveis independentes e dependentes:\n",
        "X = data.drop('median_house_value', axis=1)\n",
        "y = data['median_house_value']\n",
        "\n",
        "# Separando os dados em treino e teste:\n",
        "X_train, X_test, y_train, y_test = train_test_split(X, y, test_size=0.2, random_state=42)\n",
        "\n",
        "# Selecionando apenas as colunas categóricas para o pipeline:\n",
        "categorical_columns = X_train.select_dtypes(include=['object']).columns\n",
        "X_train_categorical = X_train[categorical_columns]\n",
        "X_test_categorical = X_test[categorical_columns]\n",
        "\n",
        "# Criando o pipeline categórico para preenchimento e codificação:\n",
        "categorical_pipeline = Pipeline([\n",
        "    ('imputer', SimpleImputer(strategy='most_frequent')),  # Preenche valores faltantes com o valor mais frequente.\n",
        "    ('encoder', OneHotEncoder(drop='first', sparse_output=False))  # Codifica variáveis categóricas, removendo uma categoria para evitar multicolinearidade.\n",
        "])\n",
        "\n",
        "# Aplicando o pipeline nos dados de treino e teste:\n",
        "X_train_categorical_prepared = categorical_pipeline.fit_transform(X_train_categorical)\n",
        "X_test_categorical_prepared = categorical_pipeline.transform(X_test_categorical)\n",
        "\n",
        "# Convertendo os dados preparados de volta para DataFrame:\n",
        "encoded_feature_names = categorical_pipeline.named_steps['encoder'].get_feature_names_out(categorical_columns)\n",
        "X_train_categorical_prepared_df = pd.DataFrame(X_train_categorical_prepared, columns=encoded_feature_names)\n",
        "X_test_categorical_prepared_df = pd.DataFrame(X_test_categorical_prepared, columns=encoded_feature_names)\n",
        "\n",
        "# Visualizando os dados categóricos processados:\n",
        "print(\"Dados de treino categóricos processados:\")\n",
        "print(X_train_categorical_prepared_df.head())\n",
        "\n",
        "print(\"\\nDados de teste categóricos processados:\")\n",
        "print(X_test_categorical_prepared_df.head())\n"
      ],
      "metadata": {
        "id": "EM7QZtY5YG76",
        "colab": {
          "base_uri": "https://localhost:8080/"
        },
        "outputId": "f6dd61ba-a8c0-4462-ed97-8d62f24aeb29"
      },
      "execution_count": 36,
      "outputs": [
        {
          "output_type": "stream",
          "name": "stdout",
          "text": [
            "Dados de treino categóricos processados:\n",
            "   ocean_proximity_INLAND  ocean_proximity_ISLAND  ocean_proximity_NEAR BAY  \\\n",
            "0                     0.0                     0.0                       0.0   \n",
            "1                     0.0                     0.0                       0.0   \n",
            "2                     0.0                     0.0                       0.0   \n",
            "3                     0.0                     0.0                       0.0   \n",
            "4                     1.0                     0.0                       0.0   \n",
            "\n",
            "   ocean_proximity_NEAR OCEAN  \n",
            "0                         1.0  \n",
            "1                         1.0  \n",
            "2                         1.0  \n",
            "3                         1.0  \n",
            "4                         0.0  \n",
            "\n",
            "Dados de teste categóricos processados:\n",
            "   ocean_proximity_INLAND  ocean_proximity_ISLAND  ocean_proximity_NEAR BAY  \\\n",
            "0                     1.0                     0.0                       0.0   \n",
            "1                     1.0                     0.0                       0.0   \n",
            "2                     0.0                     0.0                       1.0   \n",
            "3                     0.0                     0.0                       0.0   \n",
            "4                     0.0                     0.0                       0.0   \n",
            "\n",
            "   ocean_proximity_NEAR OCEAN  \n",
            "0                         0.0  \n",
            "1                         0.0  \n",
            "2                         0.0  \n",
            "3                         0.0  \n",
            "4                         1.0  \n"
          ]
        }
      ]
    },
    {
      "cell_type": "markdown",
      "source": [
        "## 11) Pipeline Final e Preparação dos Dados\n",
        "Utilizando o Sklearn, crie um pipeline final que receba ps dados numéricos e categóricos para o tratamento dos dados."
      ],
      "metadata": {
        "id": "PQ7NT3quUJYT"
      }
    },
    {
      "cell_type": "code",
      "source": [
        "from sklearn.model_selection import train_test_split\n",
        "from sklearn.pipeline import Pipeline\n",
        "from sklearn.preprocessing import MinMaxScaler, OneHotEncoder\n",
        "from sklearn.impute import SimpleImputer\n",
        "from sklearn.compose import ColumnTransformer\n",
        "\n",
        "# Separando as variáveis independentes e dependentes:\n",
        "X = data.drop('median_house_value', axis=1)\n",
        "y = data['median_house_value']\n",
        "\n",
        "# Separando os dados em treino e teste:\n",
        "X_train, X_test, y_train, y_test = train_test_split(X, y, test_size=0.2, random_state=42)\n",
        "\n",
        "# Identificando colunas numéricas e categóricas:\n",
        "numerical_columns = X_train.select_dtypes(include=['float64', 'int64']).columns\n",
        "categorical_columns = X_train.select_dtypes(include=['object']).columns\n",
        "\n",
        "# Pipeline numérico:\n",
        "numeric_pipeline = Pipeline([\n",
        "    ('imputer', SimpleImputer(strategy='median')),  # Preenchimento com a mediana.\n",
        "    ('scaler', MinMaxScaler())                      # Escalonamento entre 0 e 1.\n",
        "])\n",
        "\n",
        "# Pipeline categórico:\n",
        "categorical_pipeline = Pipeline([\n",
        "    ('imputer', SimpleImputer(strategy='most_frequent')),  # Preenchimento com o valor mais frequente.\n",
        "    ('encoder', OneHotEncoder(drop='first', sparse_output=False))  # Codificação one-hot.\n",
        "])\n",
        "\n",
        "# Combinando os pipelines numérico e categórico:\n",
        "full_pipeline = ColumnTransformer([\n",
        "    ('num', numeric_pipeline, numerical_columns),\n",
        "    ('cat', categorical_pipeline, categorical_columns)\n",
        "])\n",
        "\n",
        "# Aplicando o pipeline final aos dados de treino e teste:\n",
        "X_train_prepared = full_pipeline.fit_transform(X_train)\n",
        "X_test_prepared = full_pipeline.transform(X_test)\n",
        "\n",
        "# Visualizando os dados processados de treino:\n",
        "print(\"Dados de treino processados (numéricos e categóricos):\")\n",
        "print(pd.DataFrame(X_train_prepared).head())\n",
        ""
      ],
      "metadata": {
        "id": "gb2yb6VbYgHc",
        "colab": {
          "base_uri": "https://localhost:8080/"
        },
        "outputId": "f02d2b05-39bb-4f0f-d5d6-82524b121443"
      },
      "execution_count": 37,
      "outputs": [
        {
          "output_type": "stream",
          "name": "stdout",
          "text": [
            "Dados de treino processados (numéricos e categóricos):\n",
            "         0         1         2         3         4         5         6   \\\n",
            "0  0.729084  0.017021  0.627451  0.079455  0.097145  0.064380  0.102286   \n",
            "1  0.616534  0.129787  0.941176  0.085966  0.121974  0.036744  0.124157   \n",
            "2  0.385458  0.224468  0.058824  0.048197  0.051210  0.025561  0.055090   \n",
            "3  0.721116  0.014894  0.686275  0.036090  0.056797  0.039659  0.058214   \n",
            "4  0.453187  0.450000  0.823529  0.060532  0.066729  0.024412  0.062325   \n",
            "\n",
            "         7    8    9    10   11  \n",
            "0  0.190322  0.0  0.0  0.0  1.0  \n",
            "1  0.228452  0.0  0.0  0.0  1.0  \n",
            "2  0.252162  0.0  0.0  0.0  1.0  \n",
            "3  0.099488  0.0  0.0  0.0  1.0  \n",
            "4  0.210638  1.0  0.0  0.0  0.0  \n"
          ]
        }
      ]
    },
    {
      "cell_type": "markdown",
      "source": [
        "## 12) Dados preparados\n",
        "Crie um novo dataset com os dados preparados pelo Pipeline"
      ],
      "metadata": {
        "id": "Z_EkkjMlYwj6"
      }
    },
    {
      "cell_type": "code",
      "source": [
        "# Aplicando o pipeline final aos dados de treino e teste:\n",
        "X_train_prepared = full_pipeline.fit_transform(X_train)\n",
        "X_test_prepared = full_pipeline.transform(X_test)\n",
        "\n",
        "# Nomeando as colunas do novo dataset com os nomes originais das features processadas:\n",
        "feature_names = numerical_columns.tolist() + \\\n",
        "                list(full_pipeline.named_transformers_['cat'].named_steps['encoder'].get_feature_names_out(categorical_columns))\n",
        "\n",
        "# Convertendo os dados preparados para DataFrames:\n",
        "X_train_prepared_df = pd.DataFrame(X_train_prepared, columns=feature_names)\n",
        "X_test_prepared_df = pd.DataFrame(X_test_prepared, columns=feature_names)\n",
        "\n",
        "# Visualizando os dados de treino e teste preparados:\n",
        "print(\"Dados de treino preparados:\")\n",
        "print(X_train_prepared_df.head())\n",
        "\n",
        "print(\"\\nDados de teste preparados:\")\n",
        "print(X_test_prepared_df.head())\n"
      ],
      "metadata": {
        "id": "bzqW5UyAY0i2",
        "colab": {
          "base_uri": "https://localhost:8080/"
        },
        "outputId": "ac96110e-7ffd-4f24-f939-f45d097bedca"
      },
      "execution_count": 38,
      "outputs": [
        {
          "output_type": "stream",
          "name": "stdout",
          "text": [
            "Dados de treino preparados:\n",
            "   longitude  latitude  housing_median_age  total_rooms  total_bedrooms  \\\n",
            "0   0.729084  0.017021            0.627451     0.079455        0.097145   \n",
            "1   0.616534  0.129787            0.941176     0.085966        0.121974   \n",
            "2   0.385458  0.224468            0.058824     0.048197        0.051210   \n",
            "3   0.721116  0.014894            0.686275     0.036090        0.056797   \n",
            "4   0.453187  0.450000            0.823529     0.060532        0.066729   \n",
            "\n",
            "   population  households  median_income  ocean_proximity_INLAND  \\\n",
            "0    0.064380    0.102286       0.190322                     0.0   \n",
            "1    0.036744    0.124157       0.228452                     0.0   \n",
            "2    0.025561    0.055090       0.252162                     0.0   \n",
            "3    0.039659    0.058214       0.099488                     0.0   \n",
            "4    0.024412    0.062325       0.210638                     1.0   \n",
            "\n",
            "   ocean_proximity_ISLAND  ocean_proximity_NEAR BAY  \\\n",
            "0                     0.0                       0.0   \n",
            "1                     0.0                       0.0   \n",
            "2                     0.0                       0.0   \n",
            "3                     0.0                       0.0   \n",
            "4                     0.0                       0.0   \n",
            "\n",
            "   ocean_proximity_NEAR OCEAN  \n",
            "0                         1.0  \n",
            "1                         1.0  \n",
            "2                         1.0  \n",
            "3                         1.0  \n",
            "4                         0.0  \n",
            "\n",
            "Dados de teste preparados:\n",
            "   longitude  latitude  housing_median_age  total_rooms  total_bedrooms  \\\n",
            "0   0.531873  0.373404            0.470588     0.038227         0.06766   \n",
            "1   0.487052  0.275532            0.568627     0.074800         0.06766   \n",
            "2   0.190239  0.558511            1.000000     0.097360         0.06766   \n",
            "3   0.560757  0.184043            0.313725     0.077547         0.06766   \n",
            "4   0.241036  0.432979            0.647059     0.059744         0.06766   \n",
            "\n",
            "   population  households  median_income  ocean_proximity_INLAND  \\\n",
            "0    0.038930    0.058872       0.081468                     1.0   \n",
            "1    0.043779    0.095872       0.140095                     1.0   \n",
            "2    0.036632    0.158198       0.205528                     0.0   \n",
            "3    0.047703    0.081237       0.361216                     0.0   \n",
            "4    0.029709    0.070219       0.222418                     0.0   \n",
            "\n",
            "   ocean_proximity_ISLAND  ocean_proximity_NEAR BAY  \\\n",
            "0                     0.0                       0.0   \n",
            "1                     0.0                       0.0   \n",
            "2                     0.0                       1.0   \n",
            "3                     0.0                       0.0   \n",
            "4                     0.0                       0.0   \n",
            "\n",
            "   ocean_proximity_NEAR OCEAN  \n",
            "0                         0.0  \n",
            "1                         0.0  \n",
            "2                         0.0  \n",
            "3                         0.0  \n",
            "4                         1.0  \n"
          ]
        }
      ]
    },
    {
      "cell_type": "markdown",
      "source": [
        "## 13) Treinamento o Modelo\n",
        "Treine seus dados utilizando alguns algoritmos de Regressão (LinearRegression, DecisionTreeRegressor, RandomForestRegressor, dentre outros ...)"
      ],
      "metadata": {
        "id": "X7jyGt0_ULJg"
      }
    },
    {
      "cell_type": "code",
      "source": [
        "from sklearn.linear_model import LinearRegression\n",
        "from sklearn.tree import DecisionTreeRegressor\n",
        "from sklearn.ensemble import RandomForestRegressor\n",
        "from sklearn.metrics import mean_squared_error\n",
        "import numpy as np\n",
        "\n",
        "# Treinando o modelo de LinearRegression:\n",
        "linear_model = LinearRegression()\n",
        "linear_model.fit(X_train_prepared, y_train)\n",
        "y_pred_linear = linear_model.predict(X_test_prepared)\n",
        "rmse_linear = np.sqrt(mean_squared_error(y_test, y_pred_linear))\n",
        "print(f\"RMSE da Regressão Linear: {rmse_linear}\")\n",
        "\n",
        "# Treinando o modelo de DecisionTreeRegressor:\n",
        "tree_model = DecisionTreeRegressor(random_state=42)\n",
        "tree_model.fit(X_train_prepared, y_train)\n",
        "y_pred_tree = tree_model.predict(X_test_prepared)\n",
        "rmse_tree = np.sqrt(mean_squared_error(y_test, y_pred_tree))\n",
        "print(f\"RMSE da Árvore de Decisão: {rmse_tree}\")\n",
        "\n",
        "# Treinando o modelo de RandomForestRegressor:\n",
        "forest_model = RandomForestRegressor(random_state=42, n_estimators=100)\n",
        "forest_model.fit(X_train_prepared, y_train)\n",
        "y_pred_forest = forest_model.predict(X_test_prepared)\n",
        "rmse_forest = np.sqrt(mean_squared_error(y_test, y_pred_forest))\n",
        "print(f\"RMSE da Floresta Aleatória: {rmse_forest}\")\n"
      ],
      "metadata": {
        "id": "GukRvyn3ZN4E",
        "colab": {
          "base_uri": "https://localhost:8080/"
        },
        "outputId": "8e0dbc96-869d-4c08-92ff-297ba106af77"
      },
      "execution_count": 39,
      "outputs": [
        {
          "output_type": "stream",
          "name": "stdout",
          "text": [
            "RMSE da Regressão Linear: 70059.19333925012\n",
            "RMSE da Árvore de Decisão: 69773.23393454046\n",
            "RMSE da Floresta Aleatória: 49025.3964632396\n"
          ]
        }
      ]
    },
    {
      "cell_type": "markdown",
      "source": [
        "## 14) Validando o Modelo (MAE, RMSE e R²)"
      ],
      "metadata": {
        "id": "YZIb4gZ5Uyb5"
      }
    },
    {
      "cell_type": "markdown",
      "source": [
        "Utilize as métricas de regressão MAE, RMSE e R² com o objetivo de encontrar o melhor modelo."
      ],
      "metadata": {
        "id": "nWAEWtMFZOaP"
      }
    },
    {
      "cell_type": "code",
      "source": [
        "from sklearn.metrics import mean_absolute_error, mean_squared_error, r2_score\n",
        "import numpy as np\n",
        "\n",
        "# Função para calcular e exibir as métricas de desempenho:\n",
        "def evaluate_model(y_true, y_pred, model_name):\n",
        "    mae = mean_absolute_error(y_true, y_pred)\n",
        "    rmse = np.sqrt(mean_squared_error(y_true, y_pred))\n",
        "    r2 = r2_score(y_true, y_pred)\n",
        "    print(f\"Métricas para {model_name}:\")\n",
        "    print(f\"MAE: {mae}\")\n",
        "    print(f\"RMSE: {rmse}\")\n",
        "    print(f\"R²: {r2}\\n\")\n",
        "\n",
        "# Avaliando o modelo de Regressão Linear:\n",
        "y_pred_linear = linear_model.predict(X_test_prepared)\n",
        "evaluate_model(y_test, y_pred_linear, \"Regressão Linear\")\n",
        "\n",
        "# Avaliando o modelo de Árvore de Decisão:\n",
        "y_pred_tree = tree_model.predict(X_test_prepared)\n",
        "evaluate_model(y_test, y_pred_tree, \"Árvore de Decisão\")\n",
        "\n",
        "# Avaliando o modelo de Floresta Aleatória:\n",
        "y_pred_forest = forest_model.predict(X_test_prepared)\n",
        "evaluate_model(y_test, y_pred_forest, \"Floresta Aleatória\")\n"
      ],
      "metadata": {
        "id": "gTxkJyGuZNTd",
        "colab": {
          "base_uri": "https://localhost:8080/"
        },
        "outputId": "daf9efed-e196-42b2-a26f-37cd9e831a7a"
      },
      "execution_count": 40,
      "outputs": [
        {
          "output_type": "stream",
          "name": "stdout",
          "text": [
            "Métricas para Regressão Linear:\n",
            "MAE: 50670.48923565364\n",
            "RMSE: 70059.19333925012\n",
            "R²: 0.6254382675296268\n",
            "\n",
            "Métricas para Árvore de Decisão:\n",
            "MAE: 44170.510658914725\n",
            "RMSE: 69773.23393454046\n",
            "R²: 0.6284897116456462\n",
            "\n",
            "Métricas para Floresta Aleatória:\n",
            "MAE: 31630.597366763566\n",
            "RMSE: 49025.3964632396\n",
            "R²: 0.8165847809128809\n",
            "\n"
          ]
        }
      ]
    },
    {
      "cell_type": "markdown",
      "source": [
        "## 15) Modelo Escolhido\n",
        "Baseado no modelo que obteve a maior performance, utilize os dados de Treino e Teste (treine o modelo com os dados de treino e teste o modelo com os dados de teste) apresentando os resultados das previsões MAE e RMSE."
      ],
      "metadata": {
        "id": "EREcCMKHUwOS"
      }
    },
    {
      "cell_type": "code",
      "source": [
        "# Treinando o modelo RandomForestRegressor nos dados de treino e testando nos dados de teste:\n",
        "chosen_model = RandomForestRegressor(random_state=42, n_estimators=100)\n",
        "chosen_model.fit(X_train_prepared, y_train)\n",
        "\n",
        "# Realizando previsões nos dados de teste:\n",
        "y_pred_chosen = chosen_model.predict(X_test_prepared)\n",
        "\n",
        "# Calculando MAE e RMSE para o RandomForestRegressor\n",
        "mae_chosen = mean_absolute_error(y_test, y_pred_chosen)\n",
        "rmse_chosen = np.sqrt(mean_squared_error(y_test, y_pred_chosen))\n",
        "\n",
        "print(\"Resultados do Modelo Floresta Aleatória):\")\n",
        "print(f\"MAE: {mae_chosen}\")\n",
        "print(f\"RMSE: {rmse_chosen}\")\n",
        ""
      ],
      "metadata": {
        "id": "Xksu0VTddxrN",
        "colab": {
          "base_uri": "https://localhost:8080/"
        },
        "outputId": "61799b7b-8d63-4ef5-e4a5-b114f254bd53"
      },
      "execution_count": 41,
      "outputs": [
        {
          "output_type": "stream",
          "name": "stdout",
          "text": [
            "Resultados do Modelo Floresta Aleatória):\n",
            "MAE: 31630.597366763566\n",
            "RMSE: 49025.3964632396\n"
          ]
        }
      ]
    },
    {
      "cell_type": "markdown",
      "source": [
        "## 16) Quais variáveis/features ou técnicas utilizadas na criação do modelo influenciaram as métricas de validação MAE, RMSE e R² negativa ou positivamente?\n",
        "\n",
        "A criação de novas features, exclusão de alguma coluna, a mudança de alguma técnica de escalonamento ou de tratamento das variáveis categóricas podem te ajudar com a resposta."
      ],
      "metadata": {
        "id": "T7uSQ3GjVKhS"
      }
    },
    {
      "cell_type": "code",
      "source": [
        "# As variáveis e técnicas que utilizei ao longo do processo de modelagem influenciaram\n",
        "# bastante as métricas de validação, como MAE, RMSE e R². Ao criar novas features,\n",
        "# como a média de quartos por domicílio, consegui adicionar informações relevantes que\n",
        "# ajudaram o modelo a fazer previsões mais precisas.\n",
        "\n",
        "# A escolha do escalonamento também fez diferença. Comecei com o `MinMaxScaler`,\n",
        "# mas percebi que o `StandardScaler` funcionou melhor para os dados que tinham uma distribuição normal,\n",
        "# o que impactou positivamente as métricas.\n",
        "\n",
        "# Quando tratei as variáveis categóricas, usei o `OneHotEncoder` para evitar atribuir ordens que não existem,\n",
        "# o que foi uma escolha acertada. O uso do `OrdinalEncoder` foi reservado para variáveis com uma ordem natural,\n",
        "# e isso ajudou a manter a integridade dos dados.\n",
        "\n",
        "# Durante a remoção de outliers, vi que eliminar esses pontos extremos melhorou a generalização do modelo,\n",
        "# o que impactou positivamente as métricas de validação.\n",
        "# Também excluí algumas colunas que não estavam contribuindo para as previsões, o que ajudou a simplificar o modelo.\n",
        "\n",
        "# Em resumo, cada uma dessas decisões, desde a criação de novas features até o\n",
        "# tratamento de variáveis e a escolha do escalonamento, teve um papel importante nas métricas de validação.\n",
        "# Ao prestar atenção nesses detalhes, consegui otimizar o modelo e alcançar melhores resultados nas previsões."
      ],
      "metadata": {
        "id": "UZrku9oCdySt"
      },
      "execution_count": 42,
      "outputs": []
    }
  ]
}